{
 "cells": [
  {
   "cell_type": "markdown",
   "id": "0a396e3f",
   "metadata": {},
   "source": [
    "# Question 4 and 5"
   ]
  },
  {
   "cell_type": "code",
   "execution_count": 1,
   "id": "e2a68f5d",
   "metadata": {},
   "outputs": [],
   "source": [
    "import pandas as pd"
   ]
  },
  {
   "cell_type": "code",
   "execution_count": 2,
   "id": "a14328ea",
   "metadata": {},
   "outputs": [],
   "source": [
    "df = pd.read_csv('country_vaccination_stats.csv')"
   ]
  },
  {
   "cell_type": "code",
   "execution_count": 3,
   "id": "afca2d3c",
   "metadata": {},
   "outputs": [
    {
     "name": "stdout",
     "output_type": "stream",
     "text": [
      "Missing values before imputation: 60\n",
      "Missing values after imputation: 0\n",
      "Imputation complete. DataFrame updated.\n"
     ]
    }
   ],
   "source": [
    "df = pd.read_csv('country_vaccination_stats.csv')\n",
    "def impute_missing_vaccinations(df):\n",
    "    # Create a copy to avoid modifying the original DataFrame\n",
    "    df_copy = df.copy()\n",
    "\n",
    "    # Group by country to process each country individually\n",
    "    grouped = df_copy.groupby('country')\n",
    "\n",
    "    # Define a function to fill missing values for each group\n",
    "    def fill_missing(group):\n",
    "        # Get the minimum vaccination number for the group, ignoring NaN\n",
    "        min_vaccination = group['daily_vaccinations'].min(skipna=True)\n",
    "        \n",
    "        # If the group has no valid vaccination numbers, set the min_vaccination to 0\n",
    "        if pd.isna(min_vaccination):\n",
    "            min_vaccination = 0\n",
    "        \n",
    "        # Fill NaN values with the minimum vaccination number found\n",
    "        group['daily_vaccinations'].fillna(min_vaccination, inplace=True)\n",
    "        return group\n",
    "\n",
    "    # Apply the fill_missing function to each group\n",
    "    df_imputed = grouped.apply(fill_missing)\n",
    "\n",
    "    return df_imputed\n",
    "\n",
    "# Count missing values before imputation\n",
    "missing_before = df['daily_vaccinations'].isna().sum()\n",
    "print(f\"Missing values before imputation: {missing_before}\")\n",
    "\n",
    "# Impute missing values\n",
    "df = impute_missing_vaccinations(df)\n",
    "\n",
    "# Count missing values after imputation\n",
    "missing_after = df['daily_vaccinations'].isna().sum()\n",
    "print(f\"Missing values after imputation: {missing_after}\")\n",
    "\n",
    "# Now df contains the imputed data\n",
    "print(\"Imputation complete. DataFrame updated.\")\n"
   ]
  },
  {
   "cell_type": "code",
   "execution_count": 4,
   "id": "2d44de6e",
   "metadata": {},
   "outputs": [
    {
     "data": {
      "text/html": [
       "<div>\n",
       "<style scoped>\n",
       "    .dataframe tbody tr th:only-of-type {\n",
       "        vertical-align: middle;\n",
       "    }\n",
       "\n",
       "    .dataframe tbody tr th {\n",
       "        vertical-align: top;\n",
       "    }\n",
       "\n",
       "    .dataframe thead th {\n",
       "        text-align: right;\n",
       "    }\n",
       "</style>\n",
       "<table border=\"1\" class=\"dataframe\">\n",
       "  <thead>\n",
       "    <tr style=\"text-align: right;\">\n",
       "      <th></th>\n",
       "      <th>country</th>\n",
       "      <th>date</th>\n",
       "      <th>daily_vaccinations</th>\n",
       "      <th>vaccines</th>\n",
       "    </tr>\n",
       "  </thead>\n",
       "  <tbody>\n",
       "    <tr>\n",
       "      <th>0</th>\n",
       "      <td>Argentina</td>\n",
       "      <td>12/29/2020</td>\n",
       "      <td>6483.0</td>\n",
       "      <td>Sputnik V</td>\n",
       "    </tr>\n",
       "    <tr>\n",
       "      <th>1</th>\n",
       "      <td>Argentina</td>\n",
       "      <td>12/30/2020</td>\n",
       "      <td>15656.0</td>\n",
       "      <td>Sputnik V</td>\n",
       "    </tr>\n",
       "    <tr>\n",
       "      <th>2</th>\n",
       "      <td>Argentina</td>\n",
       "      <td>12/31/2020</td>\n",
       "      <td>15656.0</td>\n",
       "      <td>Sputnik V</td>\n",
       "    </tr>\n",
       "    <tr>\n",
       "      <th>3</th>\n",
       "      <td>Argentina</td>\n",
       "      <td>01-01-21</td>\n",
       "      <td>11070.0</td>\n",
       "      <td>Sputnik V</td>\n",
       "    </tr>\n",
       "    <tr>\n",
       "      <th>4</th>\n",
       "      <td>Argentina</td>\n",
       "      <td>01-02-21</td>\n",
       "      <td>8776.0</td>\n",
       "      <td>Sputnik V</td>\n",
       "    </tr>\n",
       "    <tr>\n",
       "      <th>5</th>\n",
       "      <td>Argentina</td>\n",
       "      <td>01-03-21</td>\n",
       "      <td>7400.0</td>\n",
       "      <td>Sputnik V</td>\n",
       "    </tr>\n",
       "    <tr>\n",
       "      <th>6</th>\n",
       "      <td>Argentina</td>\n",
       "      <td>01-04-21</td>\n",
       "      <td>6483.0</td>\n",
       "      <td>Sputnik V</td>\n",
       "    </tr>\n",
       "    <tr>\n",
       "      <th>7</th>\n",
       "      <td>Argentina</td>\n",
       "      <td>01-05-21</td>\n",
       "      <td>7984.0</td>\n",
       "      <td>Sputnik V</td>\n",
       "    </tr>\n",
       "    <tr>\n",
       "      <th>8</th>\n",
       "      <td>Argentina</td>\n",
       "      <td>01-06-21</td>\n",
       "      <td>8173.0</td>\n",
       "      <td>Sputnik V</td>\n",
       "    </tr>\n",
       "    <tr>\n",
       "      <th>9</th>\n",
       "      <td>Argentina</td>\n",
       "      <td>01-07-21</td>\n",
       "      <td>8363.0</td>\n",
       "      <td>Sputnik V</td>\n",
       "    </tr>\n",
       "  </tbody>\n",
       "</table>\n",
       "</div>"
      ],
      "text/plain": [
       "     country        date  daily_vaccinations   vaccines\n",
       "0  Argentina  12/29/2020              6483.0  Sputnik V\n",
       "1  Argentina  12/30/2020             15656.0  Sputnik V\n",
       "2  Argentina  12/31/2020             15656.0  Sputnik V\n",
       "3  Argentina    01-01-21             11070.0  Sputnik V\n",
       "4  Argentina    01-02-21              8776.0  Sputnik V\n",
       "5  Argentina    01-03-21              7400.0  Sputnik V\n",
       "6  Argentina    01-04-21              6483.0  Sputnik V\n",
       "7  Argentina    01-05-21              7984.0  Sputnik V\n",
       "8  Argentina    01-06-21              8173.0  Sputnik V\n",
       "9  Argentina    01-07-21              8363.0  Sputnik V"
      ]
     },
     "execution_count": 4,
     "metadata": {},
     "output_type": "execute_result"
    }
   ],
   "source": [
    "df.head(10)"
   ]
  },
  {
   "cell_type": "markdown",
   "id": "c968bef0",
   "metadata": {},
   "source": [
    "# Question 6"
   ]
  },
  {
   "cell_type": "code",
   "execution_count": 5,
   "id": "d72b4fdf",
   "metadata": {},
   "outputs": [
    {
     "name": "stdout",
     "output_type": "stream",
     "text": [
      "Top-3 countries with highest median daily vaccination numbers:\n",
      "country\n",
      "United States    378253.0\n",
      "China            276786.0\n",
      "India            173922.0\n",
      "Name: daily_vaccinations, dtype: float64\n"
     ]
    }
   ],
   "source": [
    "# Median daily vaccinations for each country\n",
    "medians = df.groupby('country')['daily_vaccinations'].median()\n",
    "\n",
    "# Sort countries by median daily vaccinations select the top 3\n",
    "top_3_countries = medians.sort_values(ascending=False).head(3)\n",
    "\n",
    "print(\"Top-3 countries with highest median daily vaccination numbers:\")\n",
    "print(top_3_countries)"
   ]
  },
  {
   "cell_type": "markdown",
   "id": "58719101",
   "metadata": {},
   "source": [
    "# Question 7"
   ]
  },
  {
   "cell_type": "code",
   "execution_count": 6,
   "id": "7909b3c7",
   "metadata": {},
   "outputs": [
    {
     "name": "stdout",
     "output_type": "stream",
     "text": [
      "0.0\n"
     ]
    }
   ],
   "source": [
    "# Filter the DataFrame for 1/6/2021 or 1-6-2021 and sum the daily vaccinations\n",
    "total_vaccinations_01062021 = df[df['date'].isin(['1/6/2021', '01-6-2021'])]['daily_vaccinations'].sum()\n",
    "\n",
    "# Print the total vaccinations on 1/6/2021\n",
    "print(total_vaccinations_01062021)"
   ]
  },
  {
   "cell_type": "code",
   "execution_count": null,
   "id": "013c940e",
   "metadata": {},
   "outputs": [],
   "source": []
  }
 ],
 "metadata": {
  "kernelspec": {
   "display_name": "Python 3 (ipykernel)",
   "language": "python",
   "name": "python3"
  },
  "language_info": {
   "codemirror_mode": {
    "name": "ipython",
    "version": 3
   },
   "file_extension": ".py",
   "mimetype": "text/x-python",
   "name": "python",
   "nbconvert_exporter": "python",
   "pygments_lexer": "ipython3",
   "version": "3.9.12"
  }
 },
 "nbformat": 4,
 "nbformat_minor": 5
}
